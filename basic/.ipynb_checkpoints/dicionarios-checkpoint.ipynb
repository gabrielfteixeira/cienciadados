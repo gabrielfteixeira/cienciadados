{
 "cells": [
  {
   "cell_type": "code",
   "execution_count": 6,
   "id": "3b9a8fe2",
   "metadata": {},
   "outputs": [
    {
     "data": {
      "text/plain": [
       "dict"
      ]
     },
     "execution_count": 6,
     "metadata": {},
     "output_type": "execute_result"
    }
   ],
   "source": [
    "dicionario = {  'Curso':'Python para ML',\n",
    "                'Produtor': 'Didatica Tech',\n",
    "                'Nota': 10\n",
    "             }\n",
    "type(dicionario)\n"
   ]
  },
  {
   "cell_type": "code",
   "execution_count": 9,
   "id": "f0afad74",
   "metadata": {},
   "outputs": [
    {
     "name": "stdout",
     "output_type": "stream",
     "text": [
      "{'Curso': 'Python para ML', 'Produtor': 'Didatica Tech', 'Nota': 10}\n",
      "10\n"
     ]
    }
   ],
   "source": [
    "print(dicionario)\n",
    "print(dicionario['Nota'])"
   ]
  },
  {
   "cell_type": "code",
   "execution_count": 10,
   "id": "08d894ef",
   "metadata": {},
   "outputs": [],
   "source": [
    "dicionario['Plataforma'] = 'Youtube'"
   ]
  },
  {
   "cell_type": "code",
   "execution_count": 11,
   "id": "d72ed705",
   "metadata": {},
   "outputs": [
    {
     "name": "stdout",
     "output_type": "stream",
     "text": [
      "{'Curso': 'Python para ML', 'Produtor': 'Didatica Tech', 'Nota': 10, 'Plataforma': 'Youtube'}\n"
     ]
    }
   ],
   "source": [
    "print(dicionario)"
   ]
  },
  {
   "cell_type": "code",
   "execution_count": 12,
   "id": "d9fdfe9a",
   "metadata": {},
   "outputs": [
    {
     "data": {
      "text/plain": [
       "dict_keys(['Curso', 'Produtor', 'Nota', 'Plataforma'])"
      ]
     },
     "execution_count": 12,
     "metadata": {},
     "output_type": "execute_result"
    }
   ],
   "source": [
    "dicionario.keys() "
   ]
  },
  {
   "cell_type": "code",
   "execution_count": 13,
   "id": "9b737305",
   "metadata": {},
   "outputs": [
    {
     "data": {
      "text/plain": [
       "dict_values(['Python para ML', 'Didatica Tech', 10, 'Youtube'])"
      ]
     },
     "execution_count": 13,
     "metadata": {},
     "output_type": "execute_result"
    }
   ],
   "source": [
    "dicionario.values()"
   ]
  },
  {
   "cell_type": "code",
   "execution_count": 14,
   "id": "a974a485",
   "metadata": {},
   "outputs": [
    {
     "data": {
      "text/plain": [
       "dict_items([('Curso', 'Python para ML'), ('Produtor', 'Didatica Tech'), ('Nota', 10), ('Plataforma', 'Youtube')])"
      ]
     },
     "execution_count": 14,
     "metadata": {},
     "output_type": "execute_result"
    }
   ],
   "source": [
    "dicionario.items()"
   ]
  },
  {
   "cell_type": "code",
   "execution_count": 18,
   "id": "98b1292f",
   "metadata": {},
   "outputs": [],
   "source": [
    "dicionario.clear()"
   ]
  },
  {
   "cell_type": "code",
   "execution_count": 19,
   "id": "668785c4",
   "metadata": {},
   "outputs": [
    {
     "name": "stdout",
     "output_type": "stream",
     "text": [
      "{}\n"
     ]
    }
   ],
   "source": [
    "print(dicionario)"
   ]
  },
  {
   "cell_type": "code",
   "execution_count": null,
   "id": "21ec528e",
   "metadata": {},
   "outputs": [],
   "source": []
  }
 ],
 "metadata": {
  "kernelspec": {
   "display_name": "Python 3 (ipykernel)",
   "language": "python",
   "name": "python3"
  },
  "language_info": {
   "codemirror_mode": {
    "name": "ipython",
    "version": 3
   },
   "file_extension": ".py",
   "mimetype": "text/x-python",
   "name": "python",
   "nbconvert_exporter": "python",
   "pygments_lexer": "ipython3",
   "version": "3.10.9"
  }
 },
 "nbformat": 4,
 "nbformat_minor": 5
}
