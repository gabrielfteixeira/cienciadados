{
 "cells": [
  {
   "cell_type": "code",
   "execution_count": 2,
   "id": "c00445e0",
   "metadata": {},
   "outputs": [
    {
     "name": "stdout",
     "output_type": "stream",
     "text": [
      "Estou gostando do curso\n"
     ]
    }
   ],
   "source": [
    "frase = 'Estou gostando do curso'\n",
    "print(frase)"
   ]
  },
  {
   "cell_type": "code",
   "execution_count": 12,
   "id": "c683ea53",
   "metadata": {},
   "outputs": [
    {
     "name": "stdout",
     "output_type": "stream",
     "text": [
      " gostando do curso\n",
      "Estou\n",
      "tou\n",
      "tou gostand\n",
      "tugsad\n"
     ]
    }
   ],
   "source": [
    "print(frase[5:])\n",
    "print(frase[:5])\n",
    "print(frase[2:5])\n",
    "print(frase[2:13:1])\n",
    "print(frase[2:13:2])"
   ]
  },
  {
   "cell_type": "code",
   "execution_count": 14,
   "id": "d2161acd",
   "metadata": {},
   "outputs": [
    {
     "data": {
      "text/plain": [
       "2"
      ]
     },
     "execution_count": 14,
     "metadata": {},
     "output_type": "execute_result"
    }
   ],
   "source": [
    "frase.count('t')"
   ]
  },
  {
   "cell_type": "code",
   "execution_count": 16,
   "id": "ba70dbe5",
   "metadata": {},
   "outputs": [
    {
     "data": {
      "text/plain": [
       "23"
      ]
     },
     "execution_count": 16,
     "metadata": {},
     "output_type": "execute_result"
    }
   ],
   "source": [
    "len(frase)"
   ]
  },
  {
   "cell_type": "code",
   "execution_count": 17,
   "id": "416250d5",
   "metadata": {},
   "outputs": [
    {
     "data": {
      "text/plain": [
       "'Estou gostando do aprendizado'"
      ]
     },
     "execution_count": 17,
     "metadata": {},
     "output_type": "execute_result"
    }
   ],
   "source": [
    "frase.replace('curso','aprendizado')"
   ]
  },
  {
   "cell_type": "code",
   "execution_count": null,
   "id": "55a76c4d",
   "metadata": {},
   "outputs": [],
   "source": []
  }
 ],
 "metadata": {
  "kernelspec": {
   "display_name": "Python 3 (ipykernel)",
   "language": "python",
   "name": "python3"
  },
  "language_info": {
   "codemirror_mode": {
    "name": "ipython",
    "version": 3
   },
   "file_extension": ".py",
   "mimetype": "text/x-python",
   "name": "python",
   "nbconvert_exporter": "python",
   "pygments_lexer": "ipython3",
   "version": "3.10.9"
  }
 },
 "nbformat": 4,
 "nbformat_minor": 5
}
