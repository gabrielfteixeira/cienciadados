{
 "cells": [
  {
   "cell_type": "code",
   "execution_count": 3,
   "id": "70277fea",
   "metadata": {},
   "outputs": [],
   "source": [
    "def somaQuadrado(a,b):\n",
    "    somaQ = a**2 +b**2\n",
    "    return somaQ"
   ]
  },
  {
   "cell_type": "code",
   "execution_count": 6,
   "id": "0b178a46",
   "metadata": {},
   "outputs": [
    {
     "data": {
      "text/plain": [
       "29"
      ]
     },
     "execution_count": 6,
     "metadata": {},
     "output_type": "execute_result"
    }
   ],
   "source": [
    "somaQuadrado(5,2)"
   ]
  },
  {
   "cell_type": "code",
   "execution_count": 5,
   "id": "ec381a95",
   "metadata": {},
   "outputs": [
    {
     "data": {
      "text/plain": [
       "29"
      ]
     },
     "execution_count": 5,
     "metadata": {},
     "output_type": "execute_result"
    }
   ],
   "source": [
    "somaQuadrado2 = lambda a,b:a**2 + b**2\n",
    "somaQuadrado2(5,2)"
   ]
  },
  {
   "cell_type": "code",
   "execution_count": 7,
   "id": "25966220",
   "metadata": {},
   "outputs": [
    {
     "data": {
      "text/plain": [
       "3.0"
      ]
     },
     "execution_count": 7,
     "metadata": {},
     "output_type": "execute_result"
    }
   ],
   "source": [
    "x = lambda f: f/2\n",
    "x(6)"
   ]
  },
  {
   "cell_type": "code",
   "execution_count": null,
   "id": "7d23f988",
   "metadata": {},
   "outputs": [],
   "source": []
  }
 ],
 "metadata": {
  "kernelspec": {
   "display_name": "Python 3 (ipykernel)",
   "language": "python",
   "name": "python3"
  },
  "language_info": {
   "codemirror_mode": {
    "name": "ipython",
    "version": 3
   },
   "file_extension": ".py",
   "mimetype": "text/x-python",
   "name": "python",
   "nbconvert_exporter": "python",
   "pygments_lexer": "ipython3",
   "version": "3.10.9"
  }
 },
 "nbformat": 4,
 "nbformat_minor": 5
}
