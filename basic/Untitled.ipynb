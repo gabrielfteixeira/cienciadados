{
 "cells": [
  {
   "cell_type": "code",
   "execution_count": 5,
   "id": "48285fd8",
   "metadata": {},
   "outputs": [],
   "source": [
    "kmh = [40,50,60,70,80,8,90,100,120]"
   ]
  },
  {
   "cell_type": "code",
   "execution_count": 6,
   "id": "d239093c",
   "metadata": {},
   "outputs": [
    {
     "name": "stdout",
     "output_type": "stream",
     "text": [
      "[24.844720496894407, 31.05590062111801, 37.267080745341616, 43.47826086956521, 49.689440993788814, 4.968944099378882, 55.90062111801242, 62.11180124223602, 74.53416149068323]\n"
     ]
    }
   ],
   "source": [
    "mph = []\n",
    "for i in kmh:\n",
    "    mph.append(i/1.61)\n",
    "    \n",
    "print(mph)"
   ]
  },
  {
   "cell_type": "code",
   "execution_count": 7,
   "id": "53f9994f",
   "metadata": {},
   "outputs": [
    {
     "name": "stdout",
     "output_type": "stream",
     "text": [
      "<map object at 0x000002C2F0AD72E0>\n"
     ]
    }
   ],
   "source": [
    "mph2 = map(lambda x: x/1.61,kmh)\n",
    "print(mph2)"
   ]
  },
  {
   "cell_type": "code",
   "execution_count": null,
   "id": "46c71f89",
   "metadata": {},
   "outputs": [],
   "source": []
  }
 ],
 "metadata": {
  "kernelspec": {
   "display_name": "Python 3 (ipykernel)",
   "language": "python",
   "name": "python3"
  },
  "language_info": {
   "codemirror_mode": {
    "name": "ipython",
    "version": 3
   },
   "file_extension": ".py",
   "mimetype": "text/x-python",
   "name": "python",
   "nbconvert_exporter": "python",
   "pygments_lexer": "ipython3",
   "version": "3.10.9"
  }
 },
 "nbformat": 4,
 "nbformat_minor": 5
}
