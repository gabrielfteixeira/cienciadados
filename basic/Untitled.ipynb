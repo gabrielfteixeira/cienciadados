{
 "cells": [
  {
   "cell_type": "code",
   "execution_count": 12,
   "id": "6e486644",
   "metadata": {},
   "outputs": [
    {
     "name": "stdout",
     "output_type": "stream",
     "text": [
      "SP,\n"
     ]
    }
   ],
   "source": [
    "import random\n",
    "cidades= ['SP,','CG','PA']\n",
    "escolhido = random.choice(cidades)\n",
    "print(escolhido)"
   ]
  },
  {
   "cell_type": "code",
   "execution_count": 13,
   "id": "ffedf711",
   "metadata": {},
   "outputs": [
    {
     "name": "stdout",
     "output_type": "stream",
     "text": [
      "[1, 2, 3, 4, 15]\n"
     ]
    }
   ],
   "source": [
    "a = [1,2,3,4]\n",
    "a.append(15)\n",
    "print(a)"
   ]
  },
  {
   "cell_type": "code",
   "execution_count": 14,
   "id": "28086ee3",
   "metadata": {},
   "outputs": [
    {
     "name": "stdout",
     "output_type": "stream",
     "text": [
      "[1, 2, 3, 4, 15]\n",
      "[1, 2, 3, 4, 15, 7, 8, 9]\n"
     ]
    }
   ],
   "source": [
    "b = [7,8,9]\n",
    "print(a)\n",
    "for item in b:\n",
    "    a.append(item)\n",
    "    \n",
    "print(a)"
   ]
  },
  {
   "cell_type": "code",
   "execution_count": null,
   "id": "5527742e",
   "metadata": {},
   "outputs": [],
   "source": []
  }
 ],
 "metadata": {
  "kernelspec": {
   "display_name": "Python 3 (ipykernel)",
   "language": "python",
   "name": "python3"
  },
  "language_info": {
   "codemirror_mode": {
    "name": "ipython",
    "version": 3
   },
   "file_extension": ".py",
   "mimetype": "text/x-python",
   "name": "python",
   "nbconvert_exporter": "python",
   "pygments_lexer": "ipython3",
   "version": "3.10.9"
  }
 },
 "nbformat": 4,
 "nbformat_minor": 5
}
